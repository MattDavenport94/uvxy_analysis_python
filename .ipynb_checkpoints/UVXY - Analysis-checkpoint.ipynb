{
 "cells": [
  {
   "cell_type": "code",
   "execution_count": 1,
   "metadata": {},
   "outputs": [],
   "source": [
    "import pandas_datareader.data as web\n",
    "import numpy as np\n",
    "import pandas as pd\n",
    "import matplotlib.pyplot as plt\n",
    "%matplotlib inline"
   ]
  },
  {
   "cell_type": "code",
   "execution_count": 2,
   "metadata": {},
   "outputs": [],
   "source": [
    "import statsmodels.api as sm\n",
    "import statsmodels.formula.api as smf"
   ]
  },
  {
   "cell_type": "code",
   "execution_count": 3,
   "metadata": {},
   "outputs": [],
   "source": [
    "import datetime"
   ]
  },
  {
   "cell_type": "code",
   "execution_count": 4,
   "metadata": {},
   "outputs": [],
   "source": [
    "start = datetime.datetime(2017,4,24)\n",
    "end = datetime.datetime(2019,4,24)"
   ]
  },
  {
   "cell_type": "code",
   "execution_count": 5,
   "metadata": {},
   "outputs": [],
   "source": [
    "UVXY = web.DataReader('UVXY','yahoo',start,end)"
   ]
  },
  {
   "cell_type": "code",
   "execution_count": 6,
   "metadata": {},
   "outputs": [],
   "source": [
    "df_UVXY = pd.DataFrame(UVXY)"
   ]
  },
  {
   "cell_type": "code",
   "execution_count": 7,
   "metadata": {},
   "outputs": [],
   "source": [
    "df_UVXY = df_UVXY.reset_index()\n",
    "df_UVXY['Date'] = pd.to_datetime(df_UVXY['Date'],format='%Y-%m-%d')"
   ]
  },
  {
   "cell_type": "code",
   "execution_count": 8,
   "metadata": {},
   "outputs": [],
   "source": [
    "nine_period_high = df_UVXY['High'].rolling(window = 9).max()\n",
    "nine_period_low = df_UVXY['Low'].rolling(window = 9).min()"
   ]
  },
  {
   "cell_type": "code",
   "execution_count": 9,
   "metadata": {},
   "outputs": [],
   "source": [
    "df_UVXY['tenkan_sen'] = ((nine_period_high + nine_period_low) /2)"
   ]
  },
  {
   "cell_type": "code",
   "execution_count": 10,
   "metadata": {},
   "outputs": [],
   "source": [
    "twenty_six_period_high = df_UVXY['High'].rolling(window=26).max()"
   ]
  },
  {
   "cell_type": "code",
   "execution_count": 11,
   "metadata": {},
   "outputs": [],
   "source": [
    "twenty_six_period_low = df_UVXY['Close'].rolling(window=26).min()"
   ]
  },
  {
   "cell_type": "code",
   "execution_count": 12,
   "metadata": {},
   "outputs": [],
   "source": [
    "df_UVXY['kijun_sen'] = (twenty_six_period_high + twenty_six_period_low) /2"
   ]
  },
  {
   "cell_type": "code",
   "execution_count": null,
   "metadata": {},
   "outputs": [],
   "source": [
    "df_UVXY.head()"
   ]
  },
  {
   "cell_type": "code",
   "execution_count": null,
   "metadata": {},
   "outputs": [],
   "source": []
  },
  {
   "cell_type": "code",
   "execution_count": null,
   "metadata": {},
   "outputs": [],
   "source": [
    "df_UVXY['Open'].plot(label='UVXY',figsize=(12,8),title='Open Pirces')\n",
    "plt.legend()"
   ]
  },
  {
   "cell_type": "code",
   "execution_count": null,
   "metadata": {},
   "outputs": [],
   "source": [
    "df_UVXY['Volume'].plot(label='UVXY',figsize=(12,8),title='Volume Traded')\n",
    "plt.legend()"
   ]
  },
  {
   "cell_type": "code",
   "execution_count": null,
   "metadata": {},
   "outputs": [],
   "source": [
    "df_UVXY['Volume'].argmax()"
   ]
  },
  {
   "cell_type": "code",
   "execution_count": null,
   "metadata": {},
   "outputs": [],
   "source": [
    "df_UVXY['Open'].plot(figsize=(20,6))"
   ]
  },
  {
   "cell_type": "code",
   "execution_count": null,
   "metadata": {},
   "outputs": [],
   "source": [
    "# Created a new column for UVXY dataframe called \"Total Traded\"which is the Open Price multiplied by the Volume Traded"
   ]
  },
  {
   "cell_type": "code",
   "execution_count": null,
   "metadata": {},
   "outputs": [],
   "source": [
    "df_UVXY['Total Traded'] = df_UVXY['Open']*df_UVXY['Volume']"
   ]
  },
  {
   "cell_type": "code",
   "execution_count": null,
   "metadata": {
    "scrolled": true
   },
   "outputs": [],
   "source": [
    "df_UVXY['Total Traded'].plot(label='UVXY Total Traded',figsize=(16,8))\n",
    "plt.legend();"
   ]
  },
  {
   "cell_type": "code",
   "execution_count": null,
   "metadata": {},
   "outputs": [],
   "source": [
    "# Ichimoku"
   ]
  },
  {
   "cell_type": "code",
   "execution_count": null,
   "metadata": {},
   "outputs": [],
   "source": [
    "df_UVXY.rolling(9).mean().head(14)"
   ]
  },
  {
   "cell_type": "code",
   "execution_count": null,
   "metadata": {},
   "outputs": [],
   "source": [
    "df_UVXY['Open'].plot()\n",
    "df_UVXY.rolling(window=50).mean()['Close'].plot(figsize=(16,6))"
   ]
  },
  {
   "cell_type": "code",
   "execution_count": null,
   "metadata": {},
   "outputs": [],
   "source": [
    "df_UVXY['Close 50 Day MA'] = df_UVXY['Close'].rolling(window=50).mean()\n",
    "df_UVXY[['Close 50 Day MA','Close']].plot(figsize=(16,6))"
   ]
  },
  {
   "cell_type": "code",
   "execution_count": null,
   "metadata": {},
   "outputs": [],
   "source": [
    "df_UVXY['Close'].expanding().mean().plot(figsize=(16,6)) # Major Trend (General Expanding mean)"
   ]
  },
  {
   "cell_type": "code",
   "execution_count": null,
   "metadata": {},
   "outputs": [],
   "source": [
    "#Ichimoku\n",
    "# Kijun-sen: 1/2(26-Period High + 26 Period Low)\n",
    "# Tenkan-sen: 1/2(9-Period High + 9 Period Low)"
   ]
  },
  {
   "cell_type": "code",
   "execution_count": null,
   "metadata": {},
   "outputs": [],
   "source": [
    "df_UVXY['tenkan_sen'] = (df_UVXY['High'].rolling(window = 9).max() +\n",
    "df_UVXY['Low'].rolling(window = 9).min()) /2\n",
    "\n",
    "df_UVXY['kijun_sen'] = (df_UVXY['High'].rolling(window=26).max() + \n",
    "df_UVXY['Low'].rolling(window=26).min()) /2\n",
    "\n",
    "last_index = df_UVXY.iloc[-1].index[0]\n",
    "last_date = df_UVXY['dates'].iloc[-1].date()\n",
    "for i in range(26):\n",
    "    df_UVXY.loc[last_index+1 +i, 'dates'] = last_date + timedelta(days=i)\n",
    "\n",
    "df_UVXY['senkou_span_a'] = ((df_UVXY['High'].rolling(window = 9).max() +\n",
    "df_UVXY['Low'].rolling(window = 9).min()) /2) + ((df_UVXY['High'].rolling(window=26).max() + \n",
    "df_UVXY['Low'].rolling(window=26).min()) /2) /2"
   ]
  },
  {
   "cell_type": "code",
   "execution_count": null,
   "metadata": {},
   "outputs": [],
   "source": []
  },
  {
   "cell_type": "code",
   "execution_count": null,
   "metadata": {},
   "outputs": [],
   "source": [
    "df_UVXY[['tenkan_sen','Close','kijun_sen']].plot(figsize=(16,6))"
   ]
  },
  {
   "cell_type": "code",
   "execution_count": null,
   "metadata": {},
   "outputs": [],
   "source": []
  },
  {
   "cell_type": "code",
   "execution_count": null,
   "metadata": {},
   "outputs": [],
   "source": [
    "#Formulas for Fractals are\n",
    "#Brearish Fractal = High(N)>High(N-2) and \n",
    "#                   High(N)>High(N-1) and\n",
    "#                   High(N)>High(N+1) and\n",
    "#                   High(N)>High(N+2)\n",
    "\n",
    "#Bullish Fractal = Low(N)<Low(N-2) and\n",
    "#                  Low(N)<Low(N-1) and\n",
    "#                  Low(N)<Low(N+1) and\n",
    "#                  Low(N)<Low(N+2)\n",
    "\n",
    "# N = High/low of the current price bar\n",
    "# N-2 = High/low of price bar two periods to the left of N\n",
    "# N-1 = High/low of price bar one period to the left of N\n",
    "# N+1 = High/low of price bar one period to the right of N\n",
    "# N+2 = High/low of price bar two periods to the right of N"
   ]
  },
  {
   "cell_type": "code",
   "execution_count": null,
   "metadata": {},
   "outputs": [],
   "source": [
    "#Williams %R = (Highest High -Close)/(Highest High - Lowest Low)\n",
    "# Highest High = Highest price in the lookback period, typically 14\n",
    "# Close = Most recent closing price\n",
    "# Lowest Low = Lowest price in the lookback period, typically 14"
   ]
  },
  {
   "cell_type": "code",
   "execution_count": null,
   "metadata": {},
   "outputs": [],
   "source": [
    "df_UVXY"
   ]
  },
  {
   "cell_type": "code",
   "execution_count": null,
   "metadata": {},
   "outputs": [],
   "source": []
  },
  {
   "cell_type": "code",
   "execution_count": null,
   "metadata": {},
   "outputs": [],
   "source": []
  },
  {
   "cell_type": "code",
   "execution_count": null,
   "metadata": {},
   "outputs": [],
   "source": []
  },
  {
   "cell_type": "code",
   "execution_count": null,
   "metadata": {},
   "outputs": [],
   "source": []
  },
  {
   "cell_type": "code",
   "execution_count": null,
   "metadata": {},
   "outputs": [],
   "source": []
  },
  {
   "cell_type": "code",
   "execution_count": null,
   "metadata": {},
   "outputs": [],
   "source": []
  },
  {
   "cell_type": "code",
   "execution_count": null,
   "metadata": {},
   "outputs": [],
   "source": []
  },
  {
   "cell_type": "code",
   "execution_count": null,
   "metadata": {},
   "outputs": [],
   "source": []
  },
  {
   "cell_type": "code",
   "execution_count": null,
   "metadata": {},
   "outputs": [],
   "source": []
  }
 ],
 "metadata": {
  "kernelspec": {
   "display_name": "Python 3",
   "language": "python",
   "name": "python3"
  },
  "language_info": {
   "codemirror_mode": {
    "name": "ipython",
    "version": 3
   },
   "file_extension": ".py",
   "mimetype": "text/x-python",
   "name": "python",
   "nbconvert_exporter": "python",
   "pygments_lexer": "ipython3",
   "version": "3.7.3"
  }
 },
 "nbformat": 4,
 "nbformat_minor": 2
}
